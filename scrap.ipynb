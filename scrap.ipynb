{
 "cells": [
  {
   "cell_type": "code",
   "execution_count": null,
   "metadata": {},
   "outputs": [],
   "source": [
    "from bs4 import BeautifulSoup\n",
    "\n",
    "#lee archivo y lo paresea en BeatifulSoup\n",
    "file = \"./files/heroes_stats.html\"\n",
    "with open(file) as fp:\n",
    "    soup = BeautifulSoup(fp,\"html.parser\")\n",
    "\n",
    "#crea una lista con los elementos th del html\n",
    "campos = soup.find_all(\"th\")\n",
    "#crea una lista vacia para recibir el contenido de los th\n",
    "headers_table = []\n",
    "#crea una lista en que cada elemento es una lista de un elemento...\n",
    "#algunas celdas de la table tienen una imagen svg <svg> en lugar de texto o un placeholder `-``\n",
    "#es necesario crear una conficion para sustituir el <svg> con un texto alternativo cuando necesario\n",
    "i = 1\n",
    "while i < len(campos):\n",
    "    headers_table.append(campos[i].text.split())\n",
    "    i += 1"
   ]
  }
 ],
 "metadata": {
  "interpreter": {
   "hash": "7191eca2618c9bb802991ec4cfdb682c6c58e6d567519b4e0f703fac3b24308b"
  },
  "kernelspec": {
   "display_name": "Python 3.9.9 64-bit ('env': venv)",
   "language": "python",
   "name": "python3"
  },
  "language_info": {
   "name": "python",
   "version": "3.9.9"
  },
  "orig_nbformat": 4
 },
 "nbformat": 4,
 "nbformat_minor": 2
}
